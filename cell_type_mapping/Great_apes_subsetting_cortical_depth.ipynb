{
 "cells": [
  {
   "cell_type": "markdown",
   "id": "3e242e19",
   "metadata": {},
   "source": [
    "# Spatial annotation of great apes data "
   ]
  },
  {
   "cell_type": "code",
   "execution_count": 1,
   "id": "c8f733cb",
   "metadata": {},
   "outputs": [
    {
     "data": {
      "text/html": [
       "<style>.container { width:100% !important; }</style>"
      ],
      "text/plain": [
       "<IPython.core.display.HTML object>"
      ]
     },
     "metadata": {},
     "output_type": "display_data"
    }
   ],
   "source": [
    "%matplotlib notebook\n",
    "\n",
    "import anndata as ad\n",
    "\n",
    "import napari\n",
    "\n",
    "import numpy as np\n",
    "import seaborn\n",
    "import matplotlib.pyplot as plt\n",
    "from tqdm.notebook import tqdm\n",
    "import pandas as pd\n",
    "import pathlib\n",
    "\n",
    "\n",
    "from IPython.display import display, HTML\n",
    "display(HTML(\"<style>.container { width:100% !important; }</style>\"))\n",
    "\n",
    "\n",
    "\n",
    "from shapely.geometry import MultiLineString, box, Point, MultiPolygon\n",
    "from shapely.ops import unary_union, polygonize\n",
    "\n",
    "import shapely\n",
    "\n",
    "\n",
    "\n",
    "\n",
    "from  geojson.geometry import GeometryCollection\n",
    "import geojson\n",
    "\n",
    "import json\n",
    "from shapely.geometry import Polygon\n",
    "import pandas as pd"
   ]
  },
  {
   "cell_type": "code",
   "execution_count": 2,
   "id": "5ebfcc27",
   "metadata": {},
   "outputs": [],
   "source": [
    "\n",
    "h5adpath = pathlib.Path(\"/home/imaging_mfish/surveyNAS05/scratch/human/Healthy_MTG_V1/Trygve_MTG_V1/results/Great_apes_72722.h5ad\")\n",
    "datadir = h5adpath.parent"
   ]
  },
  {
   "cell_type": "code",
   "execution_count": 3,
   "id": "ba4cb333",
   "metadata": {},
   "outputs": [],
   "source": [
    "# all sections:\n",
    "all_sections = ad.read_h5ad(h5adpath)\n"
   ]
  },
  {
   "cell_type": "code",
   "execution_count": 9,
   "id": "bc925744",
   "metadata": {},
   "outputs": [
    {
     "data": {
      "text/plain": [
       "AnnData object with n_obs × n_vars = 153869 × 140\n",
       "    obs: 'cluster', 'subclass', 'neighborhood', 'class', 'merscope', 'avg.cor', 'genes_detected', 'total_reads', 'prob', 'volume', 'section', 'filename'\n",
       "    uns: 'gene_panel', 'merscope', 'min_genes', 'min_total_reads', 'min_vol', 'section', 'species', 'upper_bound_area', 'upper_bound_reads', 'upper_genes_read'\n",
       "    obsm: 'X_umap', 'blanks', 'spatial', 'spatial_cirro'"
      ]
     },
     "execution_count": 9,
     "metadata": {},
     "output_type": "execute_result"
    }
   ],
   "source": [
    "all_sections"
   ]
  },
  {
   "cell_type": "code",
   "execution_count": 7,
   "id": "90c3ddfd",
   "metadata": {},
   "outputs": [],
   "source": [
    "sections = all_sections.obs[\"filename\"].unique()"
   ]
  },
  {
   "cell_type": "code",
   "execution_count": 10,
   "id": "fb821415",
   "metadata": {},
   "outputs": [],
   "source": [
    "subclasses = list(all_sections.obs.subclass.unique() )\n",
    "\n",
    "layer_groups = {layer_name: [subclass for subclass in subclasses if layer_name in subclass] for layer_name in [\"L2/3\",\"L4\",\"L5\",\"L6\"]}"
   ]
  },
  {
   "cell_type": "code",
   "execution_count": 11,
   "id": "4b1044ce",
   "metadata": {},
   "outputs": [],
   "source": [
    "random_colors = np.clip(np.random.rand(1000,4)+0.2, a_max=1.0, a_min=0)\n",
    "random_colors[:,3]=1.0"
   ]
  },
  {
   "cell_type": "code",
   "execution_count": 31,
   "id": "3e501e1a",
   "metadata": {},
   "outputs": [],
   "source": [
    "\n",
    "def add_section_to_napari(viewer, section_anndata,layer_info, colors, spatial_to_use= \"spatial\", group_column = \"subclass\", data_name = \"data name\"):\n",
    "    yx_data = section_anndata.obsm[spatial_to_use].copy()[:,::-1]\n",
    "    # don't forget about this:  sign switch instead of axis flip in napari. check for current recommendations\n",
    "    yx_data[:,0]= -yx_data[:,0]\n",
    "\n",
    "    viewer.add_points(data = yx_data[:,:], size=20, face_color=[0.4,.4,.4,1],edge_color=[.4,.4,.4,1], name = data_name+\" all cells\")\n",
    "\n",
    "    for ii,layer_name in enumerate(layer_info):\n",
    "        yx_data_layer = section_anndata.obsm[spatial_to_use][section_anndata.obs[group_column].isin(layer_info[layer_name])].copy()[:,::-1]\n",
    "\n",
    "\n",
    "        # don't forget about this:  sign switch instead of axis flip in napari. check for current recommendations\n",
    "        yx_data_layer[:,0]= -yx_data_layer[:,0]\n",
    "\n",
    "\n",
    "        viewer.add_points(data = yx_data_layer[:,:], size=25, face_color=colors[ii,:], edge_color=colors[ii,:], name=layer_name)\n",
    "\n"
   ]
  },
  {
   "cell_type": "code",
   "execution_count": 25,
   "id": "85c6e34b",
   "metadata": {},
   "outputs": [],
   "source": [
    "#get last layer, it has a single polygon annotation plus a pia-white-matter line.   save it to geojson file\n",
    "def save_last_polygon_and_line(viewer, savepath, save_screenshot= True):\n",
    "    \n",
    "    tgc = GeometryCollection()\n",
    "    n_polys = len(viewer.layers[-1].data)\n",
    "    viewer.layers[-1].edge_color = [\"black\" for b in range(n_polys)]\n",
    "    viewer.layers[-1].edge_width = [10 for b in range(n_polys)]\n",
    "\n",
    "    for poly_index in range(n_polys):\n",
    "        tp = viewer.layers[-1].data[poly_index].copy()\n",
    "        coordinates = [(tp[r,0],tp[r,1]) for r in range(tp.shape[0])]\n",
    "        \n",
    "        if poly_index ==0 :\n",
    "\n",
    "            tgc.geometries.append(geojson.geometry.Polygon(coordinates = coordinates))\n",
    "        else:\n",
    "            tgc.geometries.append(geojson.geometry.LineString(coordinates=coordinates))\n",
    "        \n",
    "    with open(savepath, 'w') as w:\n",
    "        geojson.dump(tgc, w)\n",
    "    if save_screenshot:\n",
    "        v.window.screenshot(savepath.parent.joinpath(savepath.stem+\"_screenshot.png\"))\n",
    "\n",
    "    return tgc"
   ]
  },
  {
   "cell_type": "code",
   "execution_count": 26,
   "id": "a66be108",
   "metadata": {},
   "outputs": [],
   "source": [
    "\n",
    "\n",
    "def cells_in_polygon(cell_locations, polygon,\n",
    "                     checkBoundingBox = False):\n",
    "    \"\"\"\n",
    "    checks numpy array of point locations and determines if they're inside the polygon \n",
    "    currently only checks in 2D\n",
    "    uses shapely's contains() method\n",
    "\n",
    "    Args:\n",
    "        cell_locations is a numpy array size n_cells X 2  \n",
    "        polygon is a  shapely.geometry.Polygon\n",
    "        checkBoundingBox if True, use bounding box coordinates to avoid making a containsPoint call.\n",
    "\n",
    "    Returns:\n",
    "        1D numpy array of Booleans indicating if the cells are in the polygon\n",
    "    \"\"\"\n",
    "    \n",
    "\n",
    "    if checkBoundingBox:\n",
    "\n",
    "        polySpots =[]\n",
    "        bb_bounds = polygon.bounds\n",
    "        conditionA = np.logical_or(cell_locations[:,0]< bb_bounds[0] ,\n",
    "                         cell_locations[:,0]> bb_bounds[2])\n",
    "        conditionB = np.logical_or(cell_locations[:,1]< bb_bounds[1] ,\n",
    "                         cell_locations[:,1]> bb_bounds[3]) \n",
    "\n",
    "        conditions = np.logical_not( np.logical_or(conditionA, conditionB))\n",
    "        # this is the subset of spots within the xy bounding box of the polygon:\n",
    "\n",
    "\n",
    "        okSpots = np.where(conditions)[0]\n",
    "    else:\n",
    "        \n",
    "        okSpots = range(cell_locations.shape[0])\n",
    "\n",
    "        \n",
    "    spotList = []\n",
    "\n",
    "    for spot_row in okSpots:\n",
    "        spotList.append( Point(cell_locations[spot_row,0:2]))\n",
    "            \n",
    "    \n",
    "    is_in_roi = [polygon.contains(spot) for spot in spotList]\n",
    "    \n",
    "                                        \n",
    "\n",
    "    output = np.zeros(cell_locations.shape[0],dtype=bool)\n",
    "    output[okSpots] = is_in_roi\n",
    "                            \n",
    "                                        \n",
    "    return output\n"
   ]
  },
  {
   "cell_type": "code",
   "execution_count": 14,
   "id": "67d4584c",
   "metadata": {
    "scrolled": true
   },
   "outputs": [
    {
     "name": "stderr",
     "output_type": "stream",
     "text": [
      "/home/imaging_mfish/anaconda3/envs/merscope_notebooks/lib/python3.9/site-packages/napari/_qt/qt_viewer.py:344: UserWarning: Attempting to unbind an action which does not exists (napari:also_select_layer_above), this may have no effects. This can happen if your settings are out of date, if you upgraded napari, upgraded or deactivated a plugin, or made a typo in in your custom keybinding.\n",
      "  action_manager.unbind_shortcut(action)\n",
      "/home/imaging_mfish/anaconda3/envs/merscope_notebooks/lib/python3.9/site-packages/napari/_qt/qt_viewer.py:344: UserWarning: Attempting to unbind an action which does not exists (napari:also_select_layer_below), this may have no effects. This can happen if your settings are out of date, if you upgraded napari, upgraded or deactivated a plugin, or made a typo in in your custom keybinding.\n",
      "  action_manager.unbind_shortcut(action)\n",
      "/home/imaging_mfish/anaconda3/envs/merscope_notebooks/lib/python3.9/site-packages/napari/_qt/qt_viewer.py:344: UserWarning: Attempting to unbind an action which does not exists (napari:remove_all_layers), this may have no effects. This can happen if your settings are out of date, if you upgraded napari, upgraded or deactivated a plugin, or made a typo in in your custom keybinding.\n",
      "  action_manager.unbind_shortcut(action)\n",
      "/home/imaging_mfish/anaconda3/envs/merscope_notebooks/lib/python3.9/site-packages/napari/_qt/qt_viewer.py:344: UserWarning: Attempting to unbind an action which does not exists (napari:remove_selected), this may have no effects. This can happen if your settings are out of date, if you upgraded napari, upgraded or deactivated a plugin, or made a typo in in your custom keybinding.\n",
      "  action_manager.unbind_shortcut(action)\n",
      "/home/imaging_mfish/anaconda3/envs/merscope_notebooks/lib/python3.9/site-packages/napari/_qt/qt_viewer.py:344: UserWarning: Attempting to unbind an action which does not exists (napari:select_layer_above), this may have no effects. This can happen if your settings are out of date, if you upgraded napari, upgraded or deactivated a plugin, or made a typo in in your custom keybinding.\n",
      "  action_manager.unbind_shortcut(action)\n",
      "/home/imaging_mfish/anaconda3/envs/merscope_notebooks/lib/python3.9/site-packages/napari/_qt/qt_viewer.py:344: UserWarning: Attempting to unbind an action which does not exists (napari:select_layer_below), this may have no effects. This can happen if your settings are out of date, if you upgraded napari, upgraded or deactivated a plugin, or made a typo in in your custom keybinding.\n",
      "  action_manager.unbind_shortcut(action)\n"
     ]
    }
   ],
   "source": [
    "v = napari.Viewer()"
   ]
  },
  {
   "cell_type": "markdown",
   "id": "c8a7cca0",
   "metadata": {},
   "source": [
    "# The following cells can be used to cycle through each section, annotate the selected region as a polygon + a line from pia-white matter and save the results"
   ]
  },
  {
   "cell_type": "code",
   "execution_count": 35,
   "id": "15c3b28c",
   "metadata": {},
   "outputs": [],
   "source": [
    "datadir.joinpath(\"selection_polygon_info\").mkdir()\n",
    "ii =0\n",
    "all_sections.uns[\"selection_polygons\"] ={}\n"
   ]
  },
  {
   "cell_type": "code",
   "execution_count": 32,
   "id": "5145b4eb",
   "metadata": {},
   "outputs": [],
   "source": [
    "# clear out anything in your Napari viewer\n",
    "for layer_number in range(len(v.layers)):\n",
    "    v.layers.pop()"
   ]
  },
  {
   "cell_type": "code",
   "execution_count": 47,
   "id": "e57a334b",
   "metadata": {
    "scrolled": true
   },
   "outputs": [
    {
     "ename": "IndexError",
     "evalue": "index 6 is out of bounds for axis 0 with size 6",
     "output_type": "error",
     "traceback": [
      "\u001b[0;31m---------------------------------------------------------------------------\u001b[0m",
      "\u001b[0;31mIndexError\u001b[0m                                Traceback (most recent call last)",
      "Input \u001b[0;32mIn [47]\u001b[0m, in \u001b[0;36m<cell line: 2>\u001b[0;34m()\u001b[0m\n\u001b[1;32m      1\u001b[0m \u001b[38;5;66;03m# plot the data for section ii.\u001b[39;00m\n\u001b[0;32m----> 2\u001b[0m sname \u001b[38;5;241m=\u001b[39m \u001b[43msections\u001b[49m\u001b[43m[\u001b[49m\u001b[43mii\u001b[49m\u001b[43m]\u001b[49m\n\u001b[1;32m      4\u001b[0m \u001b[38;5;28mprint\u001b[39m(sname)\n\u001b[1;32m      5\u001b[0m \u001b[38;5;28mprint\u001b[39m(ii)\n",
      "File \u001b[0;32m~/anaconda3/envs/merscope_notebooks/lib/python3.9/site-packages/pandas/core/arrays/_mixins.py:272\u001b[0m, in \u001b[0;36mNDArrayBackedExtensionArray.__getitem__\u001b[0;34m(self, key)\u001b[0m\n\u001b[1;32m    266\u001b[0m \u001b[38;5;28;01mdef\u001b[39;00m \u001b[38;5;21m__getitem__\u001b[39m(\n\u001b[1;32m    267\u001b[0m     \u001b[38;5;28mself\u001b[39m: NDArrayBackedExtensionArrayT,\n\u001b[1;32m    268\u001b[0m     key: PositionalIndexer2D,\n\u001b[1;32m    269\u001b[0m ) \u001b[38;5;241m-\u001b[39m\u001b[38;5;241m>\u001b[39m NDArrayBackedExtensionArrayT \u001b[38;5;241m|\u001b[39m Any:\n\u001b[1;32m    270\u001b[0m     \u001b[38;5;28;01mif\u001b[39;00m lib\u001b[38;5;241m.\u001b[39mis_integer(key):\n\u001b[1;32m    271\u001b[0m         \u001b[38;5;66;03m# fast-path\u001b[39;00m\n\u001b[0;32m--> 272\u001b[0m         result \u001b[38;5;241m=\u001b[39m \u001b[38;5;28;43mself\u001b[39;49m\u001b[38;5;241;43m.\u001b[39;49m\u001b[43m_ndarray\u001b[49m\u001b[43m[\u001b[49m\u001b[43mkey\u001b[49m\u001b[43m]\u001b[49m\n\u001b[1;32m    273\u001b[0m         \u001b[38;5;28;01mif\u001b[39;00m \u001b[38;5;28mself\u001b[39m\u001b[38;5;241m.\u001b[39mndim \u001b[38;5;241m==\u001b[39m \u001b[38;5;241m1\u001b[39m:\n\u001b[1;32m    274\u001b[0m             \u001b[38;5;28;01mreturn\u001b[39;00m \u001b[38;5;28mself\u001b[39m\u001b[38;5;241m.\u001b[39m_box_func(result)\n",
      "\u001b[0;31mIndexError\u001b[0m: index 6 is out of bounds for axis 0 with size 6"
     ]
    }
   ],
   "source": [
    "# plot the data for section ii.\n",
    "sname = sections[ii]\n",
    "\n",
    "print(sname)\n",
    "print(ii)\n",
    "s_anndata = all_sections[all_sections.obs[\"filename\"]==sname]\n",
    "\n",
    "add_section_to_napari(v, s_anndata, layer_groups, colors = random_colors)\n"
   ]
  },
  {
   "cell_type": "markdown",
   "id": "453ddcb1",
   "metadata": {},
   "source": [
    "# after running this cell ^^^,  use Napari to add a Shapes layer and add \n",
    "- a polygon outlining a uniform piece of cortex \n",
    "- a line going from pia to white matter\n",
    "\n",
    "# Then run the cell below to save the data"
   ]
  },
  {
   "cell_type": "code",
   "execution_count": 46,
   "id": "19eee8bb",
   "metadata": {},
   "outputs": [],
   "source": [
    "gc = save_last_polygon_and_line(v,datadir.joinpath(\"selection_polygon_info\").joinpath( sname+\"_cortex_column_polygon.geojson\" ))\n",
    "gc_string = geojson.dumps(gc)\n",
    "all_sections.uns[\"selection_polygons\"].update( {sname:gc_string})\n",
    "for layernumber in range(len(v.layers)):\n",
    "    v.layers.pop()\n",
    "ii +=1"
   ]
  },
  {
   "cell_type": "markdown",
   "id": "1d86706c",
   "metadata": {},
   "source": [
    "#  repeat these last 2 cells until all sections have been annotated !"
   ]
  },
  {
   "cell_type": "markdown",
   "id": "f28e7766",
   "metadata": {},
   "source": [
    "# now saves this data back into the anndata object:\n",
    "- go through the anndata object, identify the cells within the polygon annotations for each section and add a column in the anndata.obs dataframe\n"
   ]
  },
  {
   "cell_type": "code",
   "execution_count": 49,
   "id": "901f4520",
   "metadata": {
    "scrolled": false
   },
   "outputs": [
    {
     "name": "stdout",
     "output_type": "stream",
     "text": [
      "202112021529_H1930001Cx46MTG202007203_VMSC01001: 5366\n",
      "202112021532_H1930001Cx46MTG202007204_vmsc00401: 4209\n",
      "202112101342_H1930001Cx46MTG0202007205_VMSC01001: 9995\n",
      "202201271619_H1930002Cx46MTG202007102_VMSC01001: 4852\n",
      "202201271624_H1930002Cx46MTG202007105_vmsc00401: 5680\n",
      "202201281113_H1930002Cx46MTG202007104_vmsc00401: 6757\n"
     ]
    }
   ],
   "source": [
    "#first, the spatial_cirro coordinates need to be added to the anndata.obs\n",
    "all_sections.obs[\"napari_x\"] = -all_sections.obsm[\"spatial\"][:,1]\n",
    "all_sections.obs[\"napari_y\"] = all_sections.obsm[\"spatial\"][:,0]\n",
    "all_sections.obs[\"selected_cells\"] = False\n",
    "all_sections.obs[\"depth_coordinate\"] = -1.  # not sure if NaN would be better here... \n",
    "all_sections.obs[\"normalized_depth\"] = -0.1  \n",
    "\n",
    "\n",
    "for ii, sname in enumerate(sections):\n",
    "\n",
    "\n",
    "    s_anndata = all_sections[all_sections.obs[\"filename\"]==sname]\n",
    "    if sname not in s_anndata.uns[\"selection_polygons\"].keys():\n",
    "        # this wasn't annotated with a polygon, meaning there was no selected cells\n",
    "        print(sname+\"    not in keys?\")\n",
    "        continue\n",
    "    \n",
    "    gc =  geojson.loads(s_anndata.uns[\"selection_polygons\"][sname])[\"geometries\"]\n",
    "    for poly in gc:\n",
    "        if len(poly[\"coordinates\"])<4:\n",
    "            continue\n",
    "            \n",
    "        cell_is_in_selection = cells_in_polygon(s_anndata.obs.loc[:,[\"napari_x\",\"napari_y\" ]].values, shapely.geometry.Polygon(poly[\"coordinates\"]), checkBoundingBox = True)\n",
    "\n",
    "    \n",
    "        all_sections.obs.loc[all_sections.obs[\"filename\"]==sname, \"selected_cells\"] = cell_is_in_selection | all_sections.obs.loc[all_sections.obs[\"filename\"]==sname, \"selected_cells\"]\n",
    "        print(sname+\": \"+str(cell_is_in_selection.sum()))\n",
    "    # coordinates of selected cells:\n",
    "    selected_cell_mask = np.logical_and(all_sections.obs[\"filename\"]==sname, all_sections.obs[\"selected_cells\"])\n",
    "    selected_cell_coordinates = all_sections.obs.loc[selected_cell_mask, [\"napari_x\",\"napari_y\"]].values\n",
    "    \n",
    "    line_array = np.array(gc[1][\"coordinates\"])\n",
    "    depth_unit_vector  = (np.diff(line_array, axis = 0)[0,:])\n",
    "    depth_unit_vector = depth_unit_vector/np.linalg.norm(depth_unit_vector)\n",
    "    # align the coordinates so the origin is at the beginning of the depth vector:\n",
    "    sccdiff = np.column_stack([selected_cell_coordinates[:,0]-line_array[0,0], selected_cell_coordinates[:,1]-line_array[0,1]])\n",
    "    # and dot with the unit vector to get the depth coordinate\n",
    "    depth = np.dot(sccdiff, depth_unit_vector)\n",
    "    all_sections.obs.loc[selected_cell_mask,\"depth_coordinate\"] = depth\n",
    "    all_sections.obs.loc[selected_cell_mask,\"normalized_depth\"] = depth/np.max(depth)\n",
    "    \n",
    "    \n",
    "    "
   ]
  },
  {
   "cell_type": "code",
   "execution_count": 50,
   "id": "8a0baa1c",
   "metadata": {},
   "outputs": [],
   "source": []
  },
  {
   "cell_type": "code",
   "execution_count": 51,
   "id": "1f069e3a",
   "metadata": {},
   "outputs": [],
   "source": [
    "# now write this entire thing back out to a new h5ad file..\n",
    "all_sections.write_h5ad(datadir.joinpath(h5adpath.stem+\"_annotated_with_depth.h5ad\"))"
   ]
  },
  {
   "cell_type": "code",
   "execution_count": null,
   "id": "cec94d2e",
   "metadata": {},
   "outputs": [],
   "source": []
  }
 ],
 "metadata": {
  "kernelspec": {
   "display_name": "Python 3 (ipykernel)",
   "language": "python",
   "name": "python3"
  },
  "language_info": {
   "codemirror_mode": {
    "name": "ipython",
    "version": 3
   },
   "file_extension": ".py",
   "mimetype": "text/x-python",
   "name": "python",
   "nbconvert_exporter": "python",
   "pygments_lexer": "ipython3",
   "version": "3.9.12"
  }
 },
 "nbformat": 4,
 "nbformat_minor": 5
}
